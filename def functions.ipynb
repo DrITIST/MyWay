def quick_report(df,Column):
    percentage = "{:.2%}".format(df[Column].isna().sum()/len(df[Column]))
    print("per_of_nulls   :",percentage)
    
    nulls=df[Column].isna().sum()
    print("num_of_nulls   :",nulls)
    
    uniqueValues = df[Column].nunique()
    print("num_of_uniques :", uniqueValues, "/", len(df[Column]))
    print("")
    items=df[Column].value_counts(dropna = False).head(10)
    print(items)


def quick_data (df):
    for Column in df.columns:
        print("*"*80)
        print(Column)

        percentage = "{:.2%}".format(df[Column].isna().sum()/len(df[Column]))
        print("per_of_nulls   :",percentage)

        nulls=df[Column].isna().sum()
        print("num_of_nulls   :",nulls)

        uniqueValues = df[Column].nunique()
        print("num_of_uniques :", uniqueValues, "/", len(df[Column]))
        print("")
        items=df[Column].value_counts(dropna = False).head(10)
        print(items)
